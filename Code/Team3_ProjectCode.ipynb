{
  "nbformat": 4,
  "nbformat_minor": 0,
  "metadata": {
    "colab": {
      "name": "BOP project",
      "provenance": [],
      "collapsed_sections": []
    },
    "kernelspec": {
      "name": "python3",
      "display_name": "Python 3"
    }
  },
  "cells": [
    {
      "cell_type": "markdown",
      "metadata": {
        "id": "P-bafS2zq_PY",
        "colab_type": "text"
      },
      "source": [
        "***Team 3*** :\n",
        "**Code by - Ana, Dorothy, Erica, Nicole, Noah and Steven**\n",
        "\n",
        "Data used = BOP Data Retrieved by Ian\n",
        "--\n"
      ]
    },
    {
      "cell_type": "code",
      "metadata": {
        "id": "rhu866os28hn",
        "colab_type": "code",
        "colab": {
          "base_uri": "https://localhost:8080/",
          "height": 70
        },
        "outputId": "86c86e21-6d8c-4736-9bd0-2168dd733c5b"
      },
      "source": [
        "# Load our libraries\n",
        "%matplotlib notebook\n",
        "%matplotlib inline\n",
        "import numpy as np\n",
        "import scipy as sp\n",
        "from scipy import stats\n",
        "import pandas as pd\n",
        "import matplotlib.pyplot as plt\n",
        "import seaborn as sns\n",
        "sns.set()"
      ],
      "execution_count": 3,
      "outputs": [
        {
          "output_type": "stream",
          "text": [
            "/usr/local/lib/python3.6/dist-packages/statsmodels/tools/_testing.py:19: FutureWarning: pandas.util.testing is deprecated. Use the functions in the public API at pandas.testing instead.\n",
            "  import pandas.util.testing as tm\n"
          ],
          "name": "stderr"
        }
      ]
    },
    {
      "cell_type": "code",
      "metadata": {
        "id": "wpJPnzpLK6zp",
        "colab_type": "code",
        "colab": {}
      },
      "source": [
        "dataian = pd.read_csv('http://webpage.pace.edu/fparisi/STEM-2020/Python/bop_data_retrivedbyian.csv')"
      ],
      "execution_count": 4,
      "outputs": []
    },
    {
      "cell_type": "code",
      "metadata": {
        "id": "QwmtFFvj97ou",
        "colab_type": "code",
        "colab": {
          "base_uri": "https://localhost:8080/",
          "height": 336
        },
        "outputId": "e1fbe423-319e-4e02-d40a-0ce370eb4f26"
      },
      "source": [
        "# function to find the mean in a certain set of data\n",
        "def findthemeanbetween(x, y):\n",
        "  dataSet = []\n",
        "  for p in range(x, y): # goes through all the values in the range\n",
        "  # detects which values are integers/floats\n",
        "    if (dataian.iloc[p][\"sizeOfLiveOysterMM\"]) / dataian.iloc[p][\"sizeOfLiveOysterMM\"] == 1:\n",
        "      # adds the value to the list if it's a number\n",
        "      dataSet.append(dataian.iloc[p][\"sizeOfLiveOysterMM\"])\n",
        "  mean = np.mean(dataSet)\n",
        "  print(format(mean,'.2f'))\n",
        "\n",
        "# take away 2 from the range, adding one more because the last number isn't counted\n",
        "# technically just subtracting one from the second number\n",
        "# subtract 2 from the first number, subtract 1 from the second number\n",
        "\n",
        "findthemeanbetween(0,48)\n",
        "findthemeanbetween(48,95)\n",
        "findthemeanbetween(95,197)\n",
        "findthemeanbetween(197,299)\n",
        "findthemeanbetween(299,323)\n",
        "findthemeanbetween(323,412)\n",
        "findthemeanbetween(412,440)\n",
        "findthemeanbetween(440,493)\n",
        "findthemeanbetween(499,508)\n",
        "findthemeanbetween(517,587)\n",
        "findthemeanbetween(587,628)\n",
        "findthemeanbetween(628,668)\n",
        "findthemeanbetween(668,766)\n",
        "findthemeanbetween(766,791)\n",
        "findthemeanbetween(791,836)\n",
        "findthemeanbetween(861,879)\n",
        "findthemeanbetween(879,916)\n",
        "findthemeanbetween(916,1019)\n",
        "findthemeanbetween(1019,1097)"
      ],
      "execution_count": 5,
      "outputs": [
        {
          "output_type": "stream",
          "text": [
            "29.53\n",
            "32.07\n",
            "30.09\n",
            "25.29\n",
            "30.61\n",
            "29.61\n",
            "21.92\n",
            "24.72\n",
            "43.33\n",
            "23.51\n",
            "37.35\n",
            "40.36\n",
            "30.57\n",
            "46.70\n",
            "38.14\n",
            "41.65\n",
            "45.31\n",
            "33.83\n",
            "42.16\n"
          ],
          "name": "stdout"
        }
      ]
    },
    {
      "cell_type": "code",
      "metadata": {
        "id": "jb3YQc_WLv94",
        "colab_type": "code",
        "colab": {
          "base_uri": "https://localhost:8080/",
          "height": 402
        },
        "outputId": "500a73fc-8479-4da2-8a7d-df4ffa92abef"
      },
      "source": [
        "# isolate the columns\n",
        "dataian1 = dataian[[\"sizeOfLiveOysterMM\", \"turbidity_average\"]]\n",
        "dataian1"
      ],
      "execution_count": 6,
      "outputs": [
        {
          "output_type": "execute_result",
          "data": {
            "text/html": [
              "<div>\n",
              "<style scoped>\n",
              "    .dataframe tbody tr th:only-of-type {\n",
              "        vertical-align: middle;\n",
              "    }\n",
              "\n",
              "    .dataframe tbody tr th {\n",
              "        vertical-align: top;\n",
              "    }\n",
              "\n",
              "    .dataframe thead th {\n",
              "        text-align: right;\n",
              "    }\n",
              "</style>\n",
              "<table border=\"1\" class=\"dataframe\">\n",
              "  <thead>\n",
              "    <tr style=\"text-align: right;\">\n",
              "      <th></th>\n",
              "      <th>sizeOfLiveOysterMM</th>\n",
              "      <th>turbidity_average</th>\n",
              "    </tr>\n",
              "  </thead>\n",
              "  <tbody>\n",
              "    <tr>\n",
              "      <th>0</th>\n",
              "      <td>22.0</td>\n",
              "      <td>64.80</td>\n",
              "    </tr>\n",
              "    <tr>\n",
              "      <th>1</th>\n",
              "      <td>41.0</td>\n",
              "      <td>64.80</td>\n",
              "    </tr>\n",
              "    <tr>\n",
              "      <th>2</th>\n",
              "      <td>25.0</td>\n",
              "      <td>64.80</td>\n",
              "    </tr>\n",
              "    <tr>\n",
              "      <th>3</th>\n",
              "      <td>21.0</td>\n",
              "      <td>64.80</td>\n",
              "    </tr>\n",
              "    <tr>\n",
              "      <th>4</th>\n",
              "      <td>23.0</td>\n",
              "      <td>64.80</td>\n",
              "    </tr>\n",
              "    <tr>\n",
              "      <th>...</th>\n",
              "      <td>...</td>\n",
              "      <td>...</td>\n",
              "    </tr>\n",
              "    <tr>\n",
              "      <th>1092</th>\n",
              "      <td>47.0</td>\n",
              "      <td>47.67</td>\n",
              "    </tr>\n",
              "    <tr>\n",
              "      <th>1093</th>\n",
              "      <td>46.0</td>\n",
              "      <td>47.67</td>\n",
              "    </tr>\n",
              "    <tr>\n",
              "      <th>1094</th>\n",
              "      <td>46.0</td>\n",
              "      <td>47.67</td>\n",
              "    </tr>\n",
              "    <tr>\n",
              "      <th>1095</th>\n",
              "      <td>39.0</td>\n",
              "      <td>47.67</td>\n",
              "    </tr>\n",
              "    <tr>\n",
              "      <th>1096</th>\n",
              "      <td>42.0</td>\n",
              "      <td>47.67</td>\n",
              "    </tr>\n",
              "  </tbody>\n",
              "</table>\n",
              "<p>1097 rows × 2 columns</p>\n",
              "</div>"
            ],
            "text/plain": [
              "      sizeOfLiveOysterMM  turbidity_average\n",
              "0                   22.0              64.80\n",
              "1                   41.0              64.80\n",
              "2                   25.0              64.80\n",
              "3                   21.0              64.80\n",
              "4                   23.0              64.80\n",
              "...                  ...                ...\n",
              "1092                47.0              47.67\n",
              "1093                46.0              47.67\n",
              "1094                46.0              47.67\n",
              "1095                39.0              47.67\n",
              "1096                42.0              47.67\n",
              "\n",
              "[1097 rows x 2 columns]"
            ]
          },
          "metadata": {
            "tags": []
          },
          "execution_count": 6
        }
      ]
    },
    {
      "cell_type": "code",
      "metadata": {
        "id": "A5ejzO6xaUrs",
        "colab_type": "code",
        "colab": {
          "base_uri": "https://localhost:8080/",
          "height": 286
        },
        "outputId": "8cd91e4d-d444-4168-816a-a147bdd0c57f"
      },
      "source": [
        "#Boxplot for average turbidity\n",
        "dataian['turbidity_average'].plot.box()"
      ],
      "execution_count": 7,
      "outputs": [
        {
          "output_type": "execute_result",
          "data": {
            "text/plain": [
              "<matplotlib.axes._subplots.AxesSubplot at 0x7f80d541f908>"
            ]
          },
          "metadata": {
            "tags": []
          },
          "execution_count": 7
        },
        {
          "output_type": "display_data",
          "data": {
            "image/png": "[encoded data removed]",
            "text/plain": [
              "<Figure size 432x288 with 1 Axes>"
            ]
          },
          "metadata": {
            "tags": []
          }
        }
      ]
    },
    {
      "cell_type": "code",
      "metadata": {
        "id": "M-lt5HIkc26Y",
        "colab_type": "code",
        "colab": {
          "base_uri": "https://localhost:8080/",
          "height": 338
        },
        "outputId": "fdd6016a-5494-4a3e-9133-c1369c0aabf1"
      },
      "source": [
        "#scatter plot\n",
        "dataian.plot.scatter(y = 'turbidity_average', x = 'sizeOfLiveOysterMM')"
      ],
      "execution_count": 8,
      "outputs": [
        {
          "output_type": "stream",
          "text": [
            "*c* argument looks like a single numeric RGB or RGBA sequence, which should be avoided as value-mapping will have precedence in case its length matches with *x* & *y*.  Please use the *color* keyword-argument or provide a 2-D array with a single row if you intend to specify the same RGB or RGBA value for all points.\n"
          ],
          "name": "stderr"
        },
        {
          "output_type": "execute_result",
          "data": {
            "text/plain": [
              "<matplotlib.axes._subplots.AxesSubplot at 0x7f80d536dba8>"
            ]
          },
          "metadata": {
            "tags": []
          },
          "execution_count": 8
        },
        {
          "output_type": "display_data",
          "data": {
            "image/png": "[encoded data removed]",
            "text/plain": [
              "<Figure size 432x288 with 1 Axes>"
            ]
          },
          "metadata": {
            "tags": []
          }
        }
      ]
    },
    {
      "cell_type": "code",
      "metadata": {
        "id": "BkwrU5AtiQIg",
        "colab_type": "code",
        "colab": {}
      },
      "source": [
        "url = 'https://raw.githubusercontent.com/adroit22/Team3/master/BOP%20-%20Sheet1%20(1).csv'\n",
        "df1 = pd.read_csv(url)\n",
        "# Dataset is now stored in a Pandas Dataframe"
      ],
      "execution_count": 9,
      "outputs": []
    },
    {
      "cell_type": "code",
      "metadata": {
        "id": "0fjnCX_riu25",
        "colab_type": "code",
        "colab": {
          "base_uri": "https://localhost:8080/",
          "height": 118
        },
        "outputId": "383ab921-2025-4ebb-fd6d-2213571efc6a"
      },
      "source": [
        "print(df1)"
      ],
      "execution_count": 10,
      "outputs": [
        {
          "output_type": "stream",
          "text": [
            "      Unnamed: 0  Expedition 1  ...  Expedition 11  Expedition 12\n",
            "0            NaN           NaN  ...            NaN            NaN\n",
            "1  AvgOysterSize         29.53  ...          45.31          42.16\n",
            "2   AvgTurbidity         64.80  ...          47.67          47.67\n",
            "\n",
            "[3 rows x 13 columns]\n"
          ],
          "name": "stdout"
        }
      ]
    },
    {
      "cell_type": "code",
      "metadata": {
        "id": "gNNEQYm5GbR3",
        "colab_type": "code",
        "colab": {
          "base_uri": "https://localhost:8080/",
          "height": 153
        },
        "outputId": "5817765e-dbcf-4513-ffb6-3209586991aa"
      },
      "source": [
        "df1.head()"
      ],
      "execution_count": 11,
      "outputs": [
        {
          "output_type": "execute_result",
          "data": {
            "text/html": [
              "<div>\n",
              "<style scoped>\n",
              "    .dataframe tbody tr th:only-of-type {\n",
              "        vertical-align: middle;\n",
              "    }\n",
              "\n",
              "    .dataframe tbody tr th {\n",
              "        vertical-align: top;\n",
              "    }\n",
              "\n",
              "    .dataframe thead th {\n",
              "        text-align: right;\n",
              "    }\n",
              "</style>\n",
              "<table border=\"1\" class=\"dataframe\">\n",
              "  <thead>\n",
              "    <tr style=\"text-align: right;\">\n",
              "      <th></th>\n",
              "      <th>Unnamed: 0</th>\n",
              "      <th>Expedition 1</th>\n",
              "      <th>Expedition 2</th>\n",
              "      <th>Expedition 3</th>\n",
              "      <th>Expedition 4</th>\n",
              "      <th>Expedition 5</th>\n",
              "      <th>Expedition 6</th>\n",
              "      <th>Expedition 7</th>\n",
              "      <th>Expedition 8</th>\n",
              "      <th>Expedition 9</th>\n",
              "      <th>Expedition 10</th>\n",
              "      <th>Expedition 11</th>\n",
              "      <th>Expedition 12</th>\n",
              "    </tr>\n",
              "  </thead>\n",
              "  <tbody>\n",
              "    <tr>\n",
              "      <th>0</th>\n",
              "      <td>NaN</td>\n",
              "      <td>NaN</td>\n",
              "      <td>NaN</td>\n",
              "      <td>NaN</td>\n",
              "      <td>NaN</td>\n",
              "      <td>NaN</td>\n",
              "      <td>NaN</td>\n",
              "      <td>NaN</td>\n",
              "      <td>NaN</td>\n",
              "      <td>NaN</td>\n",
              "      <td>NaN</td>\n",
              "      <td>NaN</td>\n",
              "      <td>NaN</td>\n",
              "    </tr>\n",
              "    <tr>\n",
              "      <th>1</th>\n",
              "      <td>AvgOysterSize</td>\n",
              "      <td>29.53</td>\n",
              "      <td>32.07</td>\n",
              "      <td>30.09</td>\n",
              "      <td>25.29</td>\n",
              "      <td>29.61</td>\n",
              "      <td>21.92</td>\n",
              "      <td>40.36</td>\n",
              "      <td>30.57</td>\n",
              "      <td>46.7</td>\n",
              "      <td>38.14</td>\n",
              "      <td>45.31</td>\n",
              "      <td>42.16</td>\n",
              "    </tr>\n",
              "    <tr>\n",
              "      <th>2</th>\n",
              "      <td>AvgTurbidity</td>\n",
              "      <td>64.80</td>\n",
              "      <td>63.83</td>\n",
              "      <td>51.07</td>\n",
              "      <td>21.33</td>\n",
              "      <td>101.33</td>\n",
              "      <td>29.33</td>\n",
              "      <td>64.00</td>\n",
              "      <td>72.67</td>\n",
              "      <td>80.0</td>\n",
              "      <td>65.00</td>\n",
              "      <td>47.67</td>\n",
              "      <td>47.67</td>\n",
              "    </tr>\n",
              "  </tbody>\n",
              "</table>\n",
              "</div>"
            ],
            "text/plain": [
              "      Unnamed: 0  Expedition 1  ...  Expedition 11  Expedition 12\n",
              "0            NaN           NaN  ...            NaN            NaN\n",
              "1  AvgOysterSize         29.53  ...          45.31          42.16\n",
              "2   AvgTurbidity         64.80  ...          47.67          47.67\n",
              "\n",
              "[3 rows x 13 columns]"
            ]
          },
          "metadata": {
            "tags": []
          },
          "execution_count": 11
        }
      ]
    },
    {
      "cell_type": "code",
      "metadata": {
        "id": "FPPbdsyRGmur",
        "colab_type": "code",
        "colab": {}
      },
      "source": [
        "#Transposing the table\n",
        "df2 = df1.T"
      ],
      "execution_count": 12,
      "outputs": []
    },
    {
      "cell_type": "code",
      "metadata": {
        "id": "-wLS66taGsVd",
        "colab_type": "code",
        "colab": {
          "base_uri": "https://localhost:8080/",
          "height": 252
        },
        "outputId": "db4e1397-4ab1-4abd-df13-a6cdc5ae8755"
      },
      "source": [
        "print(df2)"
      ],
      "execution_count": 13,
      "outputs": [
        {
          "output_type": "stream",
          "text": [
            "                 0              1             2\n",
            "Unnamed: 0     NaN  AvgOysterSize  AvgTurbidity\n",
            "Expedition 1   NaN          29.53          64.8\n",
            "Expedition 2   NaN          32.07         63.83\n",
            "Expedition 3   NaN          30.09         51.07\n",
            "Expedition 4   NaN          25.29         21.33\n",
            "Expedition 5   NaN          29.61        101.33\n",
            "Expedition 6   NaN          21.92         29.33\n",
            "Expedition 7   NaN          40.36            64\n",
            "Expedition 8   NaN          30.57         72.67\n",
            "Expedition 9   NaN           46.7            80\n",
            "Expedition 10  NaN          38.14            65\n",
            "Expedition 11  NaN          45.31         47.67\n",
            "Expedition 12  NaN          42.16         47.67\n"
          ],
          "name": "stdout"
        }
      ]
    },
    {
      "cell_type": "code",
      "metadata": {
        "id": "L0AxQMDIApcm",
        "colab_type": "code",
        "colab": {
          "base_uri": "https://localhost:8080/",
          "height": 34
        },
        "outputId": "f813ac96-3f79-4424-86ab-c1c6e4a04969"
      },
      "source": [
        "type(df2)"
      ],
      "execution_count": 14,
      "outputs": [
        {
          "output_type": "execute_result",
          "data": {
            "text/plain": [
              "pandas.core.frame.DataFrame"
            ]
          },
          "metadata": {
            "tags": []
          },
          "execution_count": 14
        }
      ]
    },
    {
      "cell_type": "code",
      "metadata": {
        "id": "-cVSCpT-Lf_d",
        "colab_type": "code",
        "colab": {}
      },
      "source": [
        "df2.columns = ['NaN', 'AvgOysterSize', 'AvgTurbidity']"
      ],
      "execution_count": 15,
      "outputs": []
    },
    {
      "cell_type": "code",
      "metadata": {
        "id": "cJtn1QuWLt5_",
        "colab_type": "code",
        "colab": {
          "base_uri": "https://localhost:8080/",
          "height": 432
        },
        "outputId": "e020818a-e155-4131-a4b2-87c39bfd9a0b"
      },
      "source": [
        "df2"
      ],
      "execution_count": 16,
      "outputs": [
        {
          "output_type": "execute_result",
          "data": {
            "text/html": [
              "<div>\n",
              "<style scoped>\n",
              "    .dataframe tbody tr th:only-of-type {\n",
              "        vertical-align: middle;\n",
              "    }\n",
              "\n",
              "    .dataframe tbody tr th {\n",
              "        vertical-align: top;\n",
              "    }\n",
              "\n",
              "    .dataframe thead th {\n",
              "        text-align: right;\n",
              "    }\n",
              "</style>\n",
              "<table border=\"1\" class=\"dataframe\">\n",
              "  <thead>\n",
              "    <tr style=\"text-align: right;\">\n",
              "      <th></th>\n",
              "      <th>NaN</th>\n",
              "      <th>AvgOysterSize</th>\n",
              "      <th>AvgTurbidity</th>\n",
              "    </tr>\n",
              "  </thead>\n",
              "  <tbody>\n",
              "    <tr>\n",
              "      <th>Unnamed: 0</th>\n",
              "      <td>NaN</td>\n",
              "      <td>AvgOysterSize</td>\n",
              "      <td>AvgTurbidity</td>\n",
              "    </tr>\n",
              "    <tr>\n",
              "      <th>Expedition 1</th>\n",
              "      <td>NaN</td>\n",
              "      <td>29.53</td>\n",
              "      <td>64.8</td>\n",
              "    </tr>\n",
              "    <tr>\n",
              "      <th>Expedition 2</th>\n",
              "      <td>NaN</td>\n",
              "      <td>32.07</td>\n",
              "      <td>63.83</td>\n",
              "    </tr>\n",
              "    <tr>\n",
              "      <th>Expedition 3</th>\n",
              "      <td>NaN</td>\n",
              "      <td>30.09</td>\n",
              "      <td>51.07</td>\n",
              "    </tr>\n",
              "    <tr>\n",
              "      <th>Expedition 4</th>\n",
              "      <td>NaN</td>\n",
              "      <td>25.29</td>\n",
              "      <td>21.33</td>\n",
              "    </tr>\n",
              "    <tr>\n",
              "      <th>Expedition 5</th>\n",
              "      <td>NaN</td>\n",
              "      <td>29.61</td>\n",
              "      <td>101.33</td>\n",
              "    </tr>\n",
              "    <tr>\n",
              "      <th>Expedition 6</th>\n",
              "      <td>NaN</td>\n",
              "      <td>21.92</td>\n",
              "      <td>29.33</td>\n",
              "    </tr>\n",
              "    <tr>\n",
              "      <th>Expedition 7</th>\n",
              "      <td>NaN</td>\n",
              "      <td>40.36</td>\n",
              "      <td>64</td>\n",
              "    </tr>\n",
              "    <tr>\n",
              "      <th>Expedition 8</th>\n",
              "      <td>NaN</td>\n",
              "      <td>30.57</td>\n",
              "      <td>72.67</td>\n",
              "    </tr>\n",
              "    <tr>\n",
              "      <th>Expedition 9</th>\n",
              "      <td>NaN</td>\n",
              "      <td>46.7</td>\n",
              "      <td>80</td>\n",
              "    </tr>\n",
              "    <tr>\n",
              "      <th>Expedition 10</th>\n",
              "      <td>NaN</td>\n",
              "      <td>38.14</td>\n",
              "      <td>65</td>\n",
              "    </tr>\n",
              "    <tr>\n",
              "      <th>Expedition 11</th>\n",
              "      <td>NaN</td>\n",
              "      <td>45.31</td>\n",
              "      <td>47.67</td>\n",
              "    </tr>\n",
              "    <tr>\n",
              "      <th>Expedition 12</th>\n",
              "      <td>NaN</td>\n",
              "      <td>42.16</td>\n",
              "      <td>47.67</td>\n",
              "    </tr>\n",
              "  </tbody>\n",
              "</table>\n",
              "</div>"
            ],
            "text/plain": [
              "               NaN  AvgOysterSize  AvgTurbidity\n",
              "Unnamed: 0     NaN  AvgOysterSize  AvgTurbidity\n",
              "Expedition 1   NaN          29.53          64.8\n",
              "Expedition 2   NaN          32.07         63.83\n",
              "Expedition 3   NaN          30.09         51.07\n",
              "Expedition 4   NaN          25.29         21.33\n",
              "Expedition 5   NaN          29.61        101.33\n",
              "Expedition 6   NaN          21.92         29.33\n",
              "Expedition 7   NaN          40.36            64\n",
              "Expedition 8   NaN          30.57         72.67\n",
              "Expedition 9   NaN           46.7            80\n",
              "Expedition 10  NaN          38.14            65\n",
              "Expedition 11  NaN          45.31         47.67\n",
              "Expedition 12  NaN          42.16         47.67"
            ]
          },
          "metadata": {
            "tags": []
          },
          "execution_count": 16
        }
      ]
    },
    {
      "cell_type": "code",
      "metadata": {
        "id": "9XYZg4t5LwEy",
        "colab_type": "code",
        "colab": {
          "base_uri": "https://localhost:8080/",
          "height": 402
        },
        "outputId": "925cfec9-1908-4785-a77a-9cbbc838ccb1"
      },
      "source": [
        "df2 = df2.drop(df2.index[0])\n",
        "df2"
      ],
      "execution_count": 17,
      "outputs": [
        {
          "output_type": "execute_result",
          "data": {
            "text/html": [
              "<div>\n",
              "<style scoped>\n",
              "    .dataframe tbody tr th:only-of-type {\n",
              "        vertical-align: middle;\n",
              "    }\n",
              "\n",
              "    .dataframe tbody tr th {\n",
              "        vertical-align: top;\n",
              "    }\n",
              "\n",
              "    .dataframe thead th {\n",
              "        text-align: right;\n",
              "    }\n",
              "</style>\n",
              "<table border=\"1\" class=\"dataframe\">\n",
              "  <thead>\n",
              "    <tr style=\"text-align: right;\">\n",
              "      <th></th>\n",
              "      <th>NaN</th>\n",
              "      <th>AvgOysterSize</th>\n",
              "      <th>AvgTurbidity</th>\n",
              "    </tr>\n",
              "  </thead>\n",
              "  <tbody>\n",
              "    <tr>\n",
              "      <th>Expedition 1</th>\n",
              "      <td>NaN</td>\n",
              "      <td>29.53</td>\n",
              "      <td>64.8</td>\n",
              "    </tr>\n",
              "    <tr>\n",
              "      <th>Expedition 2</th>\n",
              "      <td>NaN</td>\n",
              "      <td>32.07</td>\n",
              "      <td>63.83</td>\n",
              "    </tr>\n",
              "    <tr>\n",
              "      <th>Expedition 3</th>\n",
              "      <td>NaN</td>\n",
              "      <td>30.09</td>\n",
              "      <td>51.07</td>\n",
              "    </tr>\n",
              "    <tr>\n",
              "      <th>Expedition 4</th>\n",
              "      <td>NaN</td>\n",
              "      <td>25.29</td>\n",
              "      <td>21.33</td>\n",
              "    </tr>\n",
              "    <tr>\n",
              "      <th>Expedition 5</th>\n",
              "      <td>NaN</td>\n",
              "      <td>29.61</td>\n",
              "      <td>101.33</td>\n",
              "    </tr>\n",
              "    <tr>\n",
              "      <th>Expedition 6</th>\n",
              "      <td>NaN</td>\n",
              "      <td>21.92</td>\n",
              "      <td>29.33</td>\n",
              "    </tr>\n",
              "    <tr>\n",
              "      <th>Expedition 7</th>\n",
              "      <td>NaN</td>\n",
              "      <td>40.36</td>\n",
              "      <td>64</td>\n",
              "    </tr>\n",
              "    <tr>\n",
              "      <th>Expedition 8</th>\n",
              "      <td>NaN</td>\n",
              "      <td>30.57</td>\n",
              "      <td>72.67</td>\n",
              "    </tr>\n",
              "    <tr>\n",
              "      <th>Expedition 9</th>\n",
              "      <td>NaN</td>\n",
              "      <td>46.7</td>\n",
              "      <td>80</td>\n",
              "    </tr>\n",
              "    <tr>\n",
              "      <th>Expedition 10</th>\n",
              "      <td>NaN</td>\n",
              "      <td>38.14</td>\n",
              "      <td>65</td>\n",
              "    </tr>\n",
              "    <tr>\n",
              "      <th>Expedition 11</th>\n",
              "      <td>NaN</td>\n",
              "      <td>45.31</td>\n",
              "      <td>47.67</td>\n",
              "    </tr>\n",
              "    <tr>\n",
              "      <th>Expedition 12</th>\n",
              "      <td>NaN</td>\n",
              "      <td>42.16</td>\n",
              "      <td>47.67</td>\n",
              "    </tr>\n",
              "  </tbody>\n",
              "</table>\n",
              "</div>"
            ],
            "text/plain": [
              "               NaN AvgOysterSize AvgTurbidity\n",
              "Expedition 1   NaN         29.53         64.8\n",
              "Expedition 2   NaN         32.07        63.83\n",
              "Expedition 3   NaN         30.09        51.07\n",
              "Expedition 4   NaN         25.29        21.33\n",
              "Expedition 5   NaN         29.61       101.33\n",
              "Expedition 6   NaN         21.92        29.33\n",
              "Expedition 7   NaN         40.36           64\n",
              "Expedition 8   NaN         30.57        72.67\n",
              "Expedition 9   NaN          46.7           80\n",
              "Expedition 10  NaN         38.14           65\n",
              "Expedition 11  NaN         45.31        47.67\n",
              "Expedition 12  NaN         42.16        47.67"
            ]
          },
          "metadata": {
            "tags": []
          },
          "execution_count": 17
        }
      ]
    },
    {
      "cell_type": "code",
      "metadata": {
        "id": "y_Iar5TxNkhz",
        "colab_type": "code",
        "colab": {
          "base_uri": "https://localhost:8080/",
          "height": 338
        },
        "outputId": "e8bc03ee-b7d9-4ada-f373-358354b420ce"
      },
      "source": [
        "df2.plot.scatter(y = 'AvgTurbidity', x = 'AvgOysterSize')"
      ],
      "execution_count": 18,
      "outputs": [
        {
          "output_type": "stream",
          "text": [
            "*c* argument looks like a single numeric RGB or RGBA sequence, which should be avoided as value-mapping will have precedence in case its length matches with *x* & *y*.  Please use the *color* keyword-argument or provide a 2-D array with a single row if you intend to specify the same RGB or RGBA value for all points.\n"
          ],
          "name": "stderr"
        },
        {
          "output_type": "execute_result",
          "data": {
            "text/plain": [
              "<matplotlib.axes._subplots.AxesSubplot at 0x7f80d52eb3c8>"
            ]
          },
          "metadata": {
            "tags": []
          },
          "execution_count": 18
        },
        {
          "output_type": "display_data",
          "data": {
            "image/png": "[encoded data removed]",
            "text/plain": [
              "<Figure size 432x288 with 1 Axes>"
            ]
          },
          "metadata": {
            "tags": []
          }
        }
      ]
    },
    {
      "cell_type": "code",
      "metadata": {
        "id": "QCyX3rOmYD5e",
        "colab_type": "code",
        "colab": {
          "base_uri": "https://localhost:8080/",
          "height": 34
        },
        "outputId": "8f108319-7c71-4be3-fe57-5bade9b4bcb8"
      },
      "source": [
        "rho, pstat = sp.stats.pearsonr(df2['AvgTurbidity'], df2['AvgOysterSize'])#looks to mid correlation between AvgOysterSize and AvgTurbidity\n",
        "print('rho = %.4f' % rho, 'p-val = %.4f' % pstat) "
      ],
      "execution_count": 19,
      "outputs": [
        {
          "output_type": "stream",
          "text": [
            "rho = 0.2898 p-val = 0.3610\n"
          ],
          "name": "stdout"
        }
      ]
    }
  ]
}